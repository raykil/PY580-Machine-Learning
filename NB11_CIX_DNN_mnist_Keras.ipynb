{
  "cells": [
    {
      "cell_type": "markdown",
      "metadata": {
        "id": "view-in-github",
        "colab_type": "text"
      },
      "source": [
        "<a href=\"https://colab.research.google.com/github/raykil/PY580-Machine-Learning/blob/main/NB11_CIX_DNN_mnist_Keras.ipynb\" target=\"_parent\"><img src=\"https://colab.research.google.com/assets/colab-badge.svg\" alt=\"Open In Colab\"/></a>"
      ]
    },
    {
      "cell_type": "markdown",
      "metadata": {
        "id": "9I2Gi6rJo93m"
      },
      "source": [
        "# Notebook 11: Introduction to Deep Neural Networks with Keras"
      ]
    },
    {
      "cell_type": "markdown",
      "metadata": {
        "id": "nWsoIyiRo93o"
      },
      "source": [
        "## Learning Goals\n",
        "The goal of this notebook is to introduce deep neural networks (DNNs) using the high-level Keras package. The reader will become familiar with how to choose an architecture, cost function, and optimizer in Keras. We will also learn how to train neural networks.\n",
        "\n",
        "\n",
        "# MNIST with Keras\n",
        "\n",
        "We will once again work with the MNIST dataset of hand written digits introduced in *Notebook 7: Logistic Regression (MNIST)*. The goal is to find a statistical model which recognizes and distinguishes between the ten handwritten digits (0-9).\n",
        "\n",
        "The MNIST dataset comprises $70000$ handwritten digits, each of which comes in a square image, divided into a $28\\times 28$ pixel grid. Every pixel can take on $256$ nuances of the gray color, interpolating between white and black, and hence each data point assumes any value in the set $\\{0,1,\\dots,255\\}$. Since there are $10$ categories in the problem, corresponding to the ten digits, this problem represents a generic classification task. \n",
        "\n",
        "In this Notebook, we show how to use the Keras python package to tackle the MNIST problem with the help of deep neural networks.\n",
        "\n",
        "The following code is a slight modification of a Keras tutorial, see [https://github.com/fchollet/keras/blob/master/examples/mnist_cnn.py](https://github.com/fchollet/keras/blob/master/examples/mnist_cnn.py). We invite the reader to read Sec. IX of the review to acquire a broad understanding of what the separate parts of the code do."
      ]
    },
    {
      "cell_type": "code",
      "execution_count": 2,
      "metadata": {
        "id": "Ea3cK8CLo93r"
      },
      "outputs": [],
      "source": [
        "from __future__ import print_function\n",
        "import keras,sklearn\n",
        "# suppress tensorflow compilation warnings\n",
        "import os\n",
        "os.environ['KMP_DUPLICATE_LIB_OK']='True'\n",
        "import tensorflow as tf\n",
        "os.environ['TF_CPP_MIN_LOG_LEVEL'] = '2'\n",
        "import numpy as np\n",
        "seed=0\n",
        "#np.random.seed(seed) # fix random seed\n",
        "#tf.set_random_seed(seed)\n",
        "import matplotlib.pyplot as plt"
      ]
    },
    {
      "cell_type": "markdown",
      "metadata": {
        "id": "CzO7zmtdo93u"
      },
      "source": [
        "## Structure of the Procedure\n",
        "\n",
        "Constructing a Deep Neural Network to solve ML problems is a multiple-stage process. Quite generally, one can identify the key steps as follows:\n",
        "\n",
        "* ***step 1:*** Load and process the data\n",
        "* ***step 2:*** Define the model and its architecture\n",
        "* ***step 3:*** Choose the optimizer and the cost function\n",
        "* ***step 4:*** Train the model \n",
        "* ***step 5:*** Evaluate the model performance on the *unseen* test data\n",
        "* ***step 6:*** Modify the hyperparameters to optimize performance for the specific data set\n",
        "\n",
        "We would like to emphasize that, while it is always possible to view steps 1-5 as independent of the particular task we are trying to solve, it is only when they are put together in ***step 6*** that the real gain of using Deep Learning is revealed, compared to less sophisticated methods such as the regression models or bagging, described in Secs. VII and VIII of the review. With this remark in mind, we shall focus predominantly on steps 1-5 below. We show how one can use grid search methods to find optimal hyperparameters in ***step 6***."
      ]
    },
    {
      "cell_type": "markdown",
      "metadata": {
        "id": "5BM5kGNQo93v"
      },
      "source": [
        "### Step 1: Load and Process the Data\n",
        "\n",
        "Keras can conveniently download the MNIST data from the web. All we need to do is import the `mnist` module and use the `load_data()` class, and it will create the training and test data sets or us.\n",
        "\n",
        "The MNIST set has pre-defined test and training sets, in order to facilitate the comparison of the performance of different models on the data.\n",
        "\n",
        "Once we have loaded the data, we need to format it in the correct shape. This differs from one package to the other and, as we see in the case of Keras, it can even be different depending on the backend used.\n",
        "\n",
        "While choosing the correct `datatype` can help improve the computational speed, we emphasize the rescaling step, which is necessary to avoid large variations in the minimal and maximal possible values of each feature. In other words, we want to make sure a feature is not being over-represented just because it is \"large\".\n",
        "\n",
        "Last, we cast the label vectors $y$ to binary class matrices (a.k.a. one-hot format), as explained in Sec. VII on SoftMax regression."
      ]
    },
    {
      "cell_type": "code",
      "execution_count": 3,
      "metadata": {
        "id": "NpIjcGOqo93w",
        "outputId": "6d0decbe-3eb8-440c-9b68-cbee1fbe16e9",
        "colab": {
          "base_uri": "https://localhost:8080/",
          "height": 411
        }
      },
      "outputs": [
        {
          "output_type": "stream",
          "name": "stdout",
          "text": [
            "Downloading data from https://storage.googleapis.com/tensorflow/tf-keras-datasets/mnist.npz\n",
            "11490434/11490434 [==============================] - 0s 0us/step\n",
            "an example of a data point with label 4\n"
          ]
        },
        {
          "output_type": "display_data",
          "data": {
            "text/plain": [
              "<Figure size 288x288 with 1 Axes>"
            ],
            "image/png": "[encoded data removed]"
          },
          "metadata": {
            "needs_background": "light"
          }
        },
        {
          "output_type": "stream",
          "name": "stdout",
          "text": [
            "X_train shape: (60000, 784)\n",
            "Y_train shape: (60000, 10)\n",
            "\n",
            "60000 train samples\n",
            "10000 test samples\n"
          ]
        }
      ],
      "source": [
        "from keras.datasets import mnist\n",
        "\n",
        "# input image dimensions\n",
        "num_classes = 10 # 10 digits\n",
        "\n",
        "img_rows, img_cols = 28, 28 # number of pixels \n",
        "\n",
        "# the data, shuffled and split between train and test sets\n",
        "(X_train, Y_train), (X_test, Y_test) = mnist.load_data()\n",
        "\n",
        "# reshape data, depending on Keras backend\n",
        "X_train = X_train.reshape(X_train.shape[0], img_rows*img_cols)\n",
        "X_test = X_test.reshape(X_test.shape[0], img_rows*img_cols)\n",
        "    \n",
        "# cast floats to single precesion\n",
        "X_train = X_train.astype('float32')\n",
        "X_test = X_test.astype('float32')\n",
        "\n",
        "# rescale data in interval [0,1]\n",
        "X_train /= 255\n",
        "X_test /= 255\n",
        "\n",
        "# look at an example of data point\n",
        "print('an example of a data point with label', Y_train[20])\n",
        "plt.matshow(X_train[20,:].reshape(28,28),cmap='binary')\n",
        "plt.show()\n",
        "\n",
        "# convert class vectors to binary class matrices\n",
        "Y_train = keras.utils.to_categorical(Y_train, num_classes)\n",
        "Y_test = keras.utils.to_categorical(Y_test, num_classes)\n",
        "\n",
        "print('X_train shape:', X_train.shape)\n",
        "print('Y_train shape:', Y_train.shape)\n",
        "print()\n",
        "print(X_train.shape[0], 'train samples')\n",
        "print(X_test.shape[0], 'test samples')"
      ]
    },
    {
      "cell_type": "markdown",
      "metadata": {
        "id": "vyXUCqqHo93y"
      },
      "source": [
        "### Step 2: Define the Neural Net and its Architecture\n",
        "\n",
        "We can now move on to construct our deep neural net. We shall use Keras's `Sequential()` class to instantiate a model, and will add different deep layers one by one.\n",
        "\n",
        "At this stage, we refrain from using convolutional layers. This is done further below.\n",
        "\n",
        "Let us create an instance of Keras' `Sequential()` class, called `model`. As the name suggests, this class allows us to build DNNs layer by layer. We use the `add()` method to attach layers to our model. For the purposes of our introductory example, it suffices to focus on `Dense` layers for simplicity. Every `Dense()` layer accepts as its first required argument an integer which specifies the number of neurons. The type of activation function for the layer is defined using the `activation` optional argument, the input of which is the name of the activation function in `string` format. Examples include `relu`, `tanh`, `elu`, `sigmoid`, `softmax`. \n",
        "\n",
        "In order for our DNN to work properly, we have to make sure that the numbers of input and output neurons for each layer match. Therefore, we specify the shape of the input in the first layer of the model explicitly using the optional argument `input_shape=(N_features,)`. The sequential construction of the model then allows Keras to infer the correct input/output dimensions of all hidden layers automatically. Hence, we only need to specify the size of the softmax output layer to match the number of categories."
      ]
    },
    {
      "cell_type": "code",
      "execution_count": 4,
      "metadata": {
        "id": "oSqsZtk-o93z",
        "outputId": "bfba6456-1a65-4725-ab90-2f33d60e80aa",
        "colab": {
          "base_uri": "https://localhost:8080/"
        }
      },
      "outputs": [
        {
          "output_type": "stream",
          "name": "stdout",
          "text": [
            "Model architecture created successfully!\n"
          ]
        }
      ],
      "source": [
        "from keras.models import Sequential\n",
        "from keras.layers import Dense, Dropout, Flatten\n",
        "from keras.layers import Conv2D, MaxPooling2D\n",
        "\n",
        "\n",
        "def create_DNN():\n",
        "    # instantiate model\n",
        "    model = Sequential()\n",
        "    # add a dense all-to-all relu layer\n",
        "    model.add(Dense(400,input_shape=(img_rows*img_cols,), activation='relu'))\n",
        "    # add a dense all-to-all relu layer\n",
        "    model.add(Dense(100, activation='relu'))\n",
        "    # apply dropout with rate 0.5\n",
        "    model.add(Dropout(0.5))\n",
        "    # soft-max layer\n",
        "    model.add(Dense(num_classes, activation='softmax'))\n",
        "    \n",
        "    return model\n",
        "\n",
        "print('Model architecture created successfully!')"
      ]
    },
    {
      "cell_type": "markdown",
      "metadata": {
        "id": "-1IIdg0Vo930"
      },
      "source": [
        "### Step 3: Choose the Optimizer and the Cost Function\n",
        "\n",
        "Next, we choose the loss function according to which to train the DNN. For classification problems, this is the cross entropy, and since the output data was cast in categorical form, we choose the `categorical_crossentropy` defined in Keras' `losses` module. Depending on the problem of interest one can pick any other suitable loss function. To optimize the weights of the net, we choose SGD. This algorithm is already available to use under Keras' `optimizers` module, but we could use `Adam()` or any other built-in one as well. The parameters for the optimizer, such as `lr` (learning rate) or `momentum` are passed using the corresponding optional arguments of the `SGD()` function. All available arguments can be found in Keras' online documentation at [https://keras.io/](https://keras.io/). While the loss function and the optimizer are essential for the training procedure, to test the performance of the model one may want to look at a particular `metric` of performance. For instance, in categorical tasks one typically looks at their `accuracy`, which is defined as the percentage of correctly classified data points. To complete the definition of our model, we use the `compile()` method, with optional arguments for the `optimizer`, `loss`, and the validation `metric` as follows:"
      ]
    },
    {
      "cell_type": "code",
      "execution_count": 5,
      "metadata": {
        "id": "KXq6wUvTo932",
        "outputId": "f3758d57-4580-44d9-ff76-a2be1c88f4f7",
        "colab": {
          "base_uri": "https://localhost:8080/"
        }
      },
      "outputs": [
        {
          "output_type": "stream",
          "name": "stdout",
          "text": [
            "Model compiled successfully and ready to be trained.\n"
          ]
        }
      ],
      "source": [
        "def compile_model(optimizer=keras.optimizers.Adam()):\n",
        "    # create the mode\n",
        "    model=create_DNN()\n",
        "    # compile the model\n",
        "    model.compile(loss=keras.losses.categorical_crossentropy,\n",
        "                  optimizer=optimizer,\n",
        "                  metrics=['accuracy'])\n",
        "    return model\n",
        "\n",
        "print('Model compiled successfully and ready to be trained.')"
      ]
    },
    {
      "cell_type": "markdown",
      "metadata": {
        "id": "WQfpWg1Ho933"
      },
      "source": [
        "### Step 4: Train the model\n",
        "\n",
        "We train our DNN in minibatches, the advantages of which were explained in Sec. IV. \n",
        "\n",
        "Shuffling the training data during training improves stability of the model. Thus, we train over a number of training epochs. \n",
        "\n",
        "Training the DNN is a one-liner using the `fit()` method of the `Sequential` class. The first two required arguments are the training input and output data. As optional arguments, we specify the mini-`batch_size`, the number of training `epochs`, and the test or `validation_data`. To monitor the training procedure for every epoch, we set `verbose=True`. "
      ]
    },
    {
      "cell_type": "code",
      "execution_count": 6,
      "metadata": {
        "id": "BbFYqXDNo934",
        "outputId": "88192eab-a0b6-4922-f6cb-debab94ee36a",
        "colab": {
          "base_uri": "https://localhost:8080/"
        }
      },
      "outputs": [
        {
          "output_type": "stream",
          "name": "stdout",
          "text": [
            "Epoch 1/10\n",
            "938/938 [==============================] - 8s 7ms/step - loss: 0.3085 - accuracy: 0.9096 - val_loss: 0.1237 - val_accuracy: 0.9614\n",
            "Epoch 2/10\n",
            "938/938 [==============================] - 7s 8ms/step - loss: 0.1299 - accuracy: 0.9620 - val_loss: 0.0832 - val_accuracy: 0.9736\n",
            "Epoch 3/10\n",
            "938/938 [==============================] - 6s 7ms/step - loss: 0.0910 - accuracy: 0.9733 - val_loss: 0.0737 - val_accuracy: 0.9772\n",
            "Epoch 4/10\n",
            "938/938 [==============================] - 7s 8ms/step - loss: 0.0690 - accuracy: 0.9801 - val_loss: 0.0656 - val_accuracy: 0.9800\n",
            "Epoch 5/10\n",
            "938/938 [==============================] - 6s 7ms/step - loss: 0.0563 - accuracy: 0.9833 - val_loss: 0.0743 - val_accuracy: 0.9791\n",
            "Epoch 6/10\n",
            "938/938 [==============================] - 7s 8ms/step - loss: 0.0458 - accuracy: 0.9857 - val_loss: 0.0717 - val_accuracy: 0.9794\n",
            "Epoch 7/10\n",
            "938/938 [==============================] - 6s 7ms/step - loss: 0.0378 - accuracy: 0.9883 - val_loss: 0.0799 - val_accuracy: 0.9784\n",
            "Epoch 8/10\n",
            "938/938 [==============================] - 7s 8ms/step - loss: 0.0352 - accuracy: 0.9891 - val_loss: 0.0717 - val_accuracy: 0.9820\n",
            "Epoch 9/10\n",
            "938/938 [==============================] - 6s 7ms/step - loss: 0.0299 - accuracy: 0.9902 - val_loss: 0.0764 - val_accuracy: 0.9812\n",
            "Epoch 10/10\n",
            "938/938 [==============================] - 7s 8ms/step - loss: 0.0270 - accuracy: 0.9914 - val_loss: 0.0832 - val_accuracy: 0.9807\n"
          ]
        }
      ],
      "source": [
        "# training parameters\n",
        "batch_size = 64\n",
        "epochs = 10\n",
        "\n",
        "# create the deep neural net\n",
        "model_DNN=compile_model()\n",
        "\n",
        "# train DNN and store training info in history\n",
        "history=model_DNN.fit(X_train, Y_train,\n",
        "          batch_size=batch_size,\n",
        "          epochs=epochs,\n",
        "          verbose=1,\n",
        "          validation_data=(X_test, Y_test))"
      ]
    },
    {
      "cell_type": "markdown",
      "metadata": {
        "id": "U0ANImHio935"
      },
      "source": [
        "### Step 5: Evaluate the Model Performance on the *Unseen* Test Data\n",
        "\n",
        "Next, we evaluate the model and read of the loss on the test data, and its accuracy using the `evaluate()` method."
      ]
    },
    {
      "cell_type": "code",
      "execution_count": 9,
      "metadata": {
        "id": "s3HWFgD2o936",
        "outputId": "c1c559ec-13d7-43ef-d096-3eca40b91420",
        "colab": {
          "base_uri": "https://localhost:8080/",
          "height": 609
        }
      },
      "outputs": [
        {
          "output_type": "stream",
          "name": "stdout",
          "text": [
            "313/313 [==============================] - 2s 7ms/step - loss: 0.0832 - accuracy: 0.9807\n",
            "\n",
            "Test loss: 0.08323022723197937\n",
            "Test accuracy: 0.9807000160217285\n"
          ]
        },
        {
          "output_type": "display_data",
          "data": {
            "text/plain": [
              "<Figure size 432x288 with 1 Axes>"
            ],
            "image/png": "[encoded data removed]"
          },
          "metadata": {
            "needs_background": "light"
          }
        },
        {
          "output_type": "display_data",
          "data": {
            "text/plain": [
              "<Figure size 432x288 with 1 Axes>"
            ],
            "image/png": "[encoded data removed]"
          },
          "metadata": {
            "needs_background": "light"
          }
        }
      ],
      "source": [
        "# evaluate model\n",
        "score = model_DNN.evaluate(X_test, Y_test, verbose=1)\n",
        "\n",
        "# print performance\n",
        "print()\n",
        "print('Test loss:', score[0])\n",
        "print('Test accuracy:', score[1])\n",
        "\n",
        "# look into training history\n",
        "\n",
        "# summarize history for accuracy\n",
        "plt.plot(history.history['accuracy'])\n",
        "plt.plot(history.history['val_accuracy'])\n",
        "plt.ylabel('model accuracy')\n",
        "plt.xlabel('epoch')\n",
        "plt.legend(['train', 'test'], loc='best')\n",
        "plt.show()\n",
        "\n",
        "# summarize history for loss\n",
        "plt.plot(history.history['loss'])\n",
        "plt.plot(history.history['val_loss'])\n",
        "plt.ylabel('model loss')\n",
        "plt.xlabel('epoch')\n",
        "plt.legend(['train', 'test'], loc='best')\n",
        "plt.show()"
      ]
    },
    {
      "cell_type": "markdown",
      "metadata": {
        "collapsed": true,
        "id": "suq6gFZmo937"
      },
      "source": [
        "### Step 6: Modify the Hyperparameters to Optimize Performance of the Model\n",
        "\n",
        "Last, we show how to use the grid search option of scikit-learn to optimize the \n",
        "hyperparameters of our model. An excellent blog on this by Jason Brownlee can be found on [https://machinelearningmastery.com/grid-search-hyperparameters-deep-learning-models-python-keras/](https://machinelearningmastery.com/grid-search-hyperparameters-deep-learning-models-python-keras/)."
      ]
    },
    {
      "cell_type": "code",
      "execution_count": 10,
      "metadata": {
        "id": "MCips5Oyo938",
        "outputId": "e6b5c87c-ae84-4c27-9bc4-ac3e26e2d614",
        "colab": {
          "base_uri": "https://localhost:8080/"
        }
      },
      "outputs": [
        {
          "output_type": "stream",
          "name": "stderr",
          "text": [
            "<ipython-input-10-061c79d699a5>:5: DeprecationWarning: KerasClassifier is deprecated, use Sci-Keras (https://github.com/adriangb/scikeras) instead. See https://www.adriangb.com/scikeras/stable/migration.html for help migrating.\n",
            "  model_gridsearch = KerasClassifier(build_fn=compile_model,\n"
          ]
        },
        {
          "output_type": "stream",
          "name": "stdout",
          "text": [
            "704/704 [==============================] - 5s 6ms/step - loss: 1.1517 - accuracy: 0.6520\n",
            "235/235 [==============================] - 1s 3ms/step - loss: 0.5215 - accuracy: 0.8721\n",
            "704/704 [==============================] - 6s 8ms/step - loss: 1.1586 - accuracy: 0.6576\n",
            "235/235 [==============================] - 1s 3ms/step - loss: 0.5296 - accuracy: 0.8701\n",
            "704/704 [==============================] - 6s 7ms/step - loss: 1.1263 - accuracy: 0.6638\n",
            "235/235 [==============================] - 1s 3ms/step - loss: 0.5398 - accuracy: 0.8624\n",
            "704/704 [==============================] - 5s 6ms/step - loss: 1.1613 - accuracy: 0.6508\n",
            "235/235 [==============================] - 1s 3ms/step - loss: 0.4938 - accuracy: 0.8813\n",
            "704/704 [==============================] - 7s 8ms/step - loss: 0.3410 - accuracy: 0.8991\n",
            "235/235 [==============================] - 1s 4ms/step - loss: 0.1578 - accuracy: 0.9535\n",
            "704/704 [==============================] - 7s 8ms/step - loss: 0.3391 - accuracy: 0.9010\n",
            "235/235 [==============================] - 2s 4ms/step - loss: 0.1609 - accuracy: 0.9519\n",
            "704/704 [==============================] - 8s 10ms/step - loss: 0.3505 - accuracy: 0.8961\n",
            "235/235 [==============================] - 1s 5ms/step - loss: 0.1500 - accuracy: 0.9538\n",
            "704/704 [==============================] - 6s 8ms/step - loss: 0.3569 - accuracy: 0.8952\n",
            "235/235 [==============================] - 1s 5ms/step - loss: 0.1417 - accuracy: 0.9589\n",
            "704/704 [==============================] - 6s 7ms/step - loss: 1.7749 - accuracy: 0.4584\n",
            "235/235 [==============================] - 1s 3ms/step - loss: 1.2048 - accuracy: 0.7837\n",
            "704/704 [==============================] - 7s 9ms/step - loss: 1.7733 - accuracy: 0.4460\n",
            "235/235 [==============================] - 1s 3ms/step - loss: 1.1928 - accuracy: 0.7637\n",
            "704/704 [==============================] - 7s 9ms/step - loss: 1.7258 - accuracy: 0.4726\n",
            "235/235 [==============================] - 1s 3ms/step - loss: 1.1581 - accuracy: 0.7735\n",
            "704/704 [==============================] - 6s 8ms/step - loss: 1.7468 - accuracy: 0.4619\n",
            "235/235 [==============================] - 1s 3ms/step - loss: 1.1338 - accuracy: 0.8083\n",
            "704/704 [==============================] - 8s 11ms/step - loss: 2.3581 - accuracy: 0.1104\n",
            "235/235 [==============================] - 1s 4ms/step - loss: 2.2480 - accuracy: 0.1542\n",
            "704/704 [==============================] - 7s 9ms/step - loss: 2.3605 - accuracy: 0.0935\n",
            "235/235 [==============================] - 2s 6ms/step - loss: 2.2616 - accuracy: 0.1190\n",
            "704/704 [==============================] - 7s 9ms/step - loss: 2.3485 - accuracy: 0.1091\n",
            "235/235 [==============================] - 1s 5ms/step - loss: 2.2531 - accuracy: 0.1429\n",
            "704/704 [==============================] - 8s 10ms/step - loss: 2.3005 - accuracy: 0.1372\n",
            "235/235 [==============================] - 1s 3ms/step - loss: 2.1906 - accuracy: 0.2529\n",
            "704/704 [==============================] - 7s 9ms/step - loss: 0.3498 - accuracy: 0.8964\n",
            "235/235 [==============================] - 1s 4ms/step - loss: 0.1453 - accuracy: 0.9561\n",
            "704/704 [==============================] - 9s 10ms/step - loss: 0.3574 - accuracy: 0.8945\n",
            "235/235 [==============================] - 1s 4ms/step - loss: 0.1400 - accuracy: 0.9558\n",
            "704/704 [==============================] - 8s 10ms/step - loss: 0.3477 - accuracy: 0.8958\n",
            "235/235 [==============================] - 1s 4ms/step - loss: 0.1478 - accuracy: 0.9549\n",
            "704/704 [==============================] - 7s 9ms/step - loss: 0.3533 - accuracy: 0.8969\n",
            "235/235 [==============================] - 1s 3ms/step - loss: 0.1493 - accuracy: 0.9559\n",
            "704/704 [==============================] - 6s 8ms/step - loss: 0.5022 - accuracy: 0.8521\n",
            "235/235 [==============================] - 1s 3ms/step - loss: 0.2202 - accuracy: 0.9382\n",
            "704/704 [==============================] - 7s 9ms/step - loss: 0.4975 - accuracy: 0.8568\n",
            "235/235 [==============================] - 1s 4ms/step - loss: 0.2222 - accuracy: 0.9369\n",
            "704/704 [==============================] - 7s 9ms/step - loss: 0.5050 - accuracy: 0.8536\n",
            "235/235 [==============================] - 1s 3ms/step - loss: 0.2348 - accuracy: 0.9304\n",
            "704/704 [==============================] - 6s 8ms/step - loss: 0.5137 - accuracy: 0.8513\n",
            "235/235 [==============================] - 1s 3ms/step - loss: 0.2140 - accuracy: 0.9381\n",
            "704/704 [==============================] - 9s 10ms/step - loss: 0.3604 - accuracy: 0.8950\n",
            "235/235 [==============================] - 1s 5ms/step - loss: 0.1512 - accuracy: 0.9555\n",
            "704/704 [==============================] - 8s 9ms/step - loss: 0.3472 - accuracy: 0.8998\n",
            "235/235 [==============================] - 1s 3ms/step - loss: 0.1740 - accuracy: 0.9443\n",
            "704/704 [==============================] - 9s 11ms/step - loss: 0.3528 - accuracy: 0.8966\n",
            "235/235 [==============================] - 1s 3ms/step - loss: 0.1530 - accuracy: 0.9535\n",
            "704/704 [==============================] - 9s 11ms/step - loss: 0.3627 - accuracy: 0.8943\n",
            "235/235 [==============================] - 1s 3ms/step - loss: 0.1376 - accuracy: 0.9606\n",
            "938/938 [==============================] - 10s 10ms/step - loss: 0.3216 - accuracy: 0.9074\n",
            "Best: 0.955683 using {'optimizer': 'Adam'}\n",
            "0.871483 (0.006740) with: {'optimizer': 'SGD'}\n",
            "0.954517 (0.002608) with: {'optimizer': 'RMSprop'}\n",
            "0.782300 (0.016566) with: {'optimizer': 'Adagrad'}\n",
            "0.167233 (0.051047) with: {'optimizer': 'Adadelta'}\n",
            "0.955683 (0.000443) with: {'optimizer': 'Adam'}\n",
            "0.935900 (0.003220) with: {'optimizer': 'Adamax'}\n",
            "0.953467 (0.005906) with: {'optimizer': 'Nadam'}\n"
          ]
        }
      ],
      "source": [
        "from sklearn.model_selection import GridSearchCV\n",
        "from keras.wrappers.scikit_learn import KerasClassifier\n",
        "\n",
        "# call Keras scikit wrapper\n",
        "model_gridsearch = KerasClassifier(build_fn=compile_model, \n",
        "                        epochs=1, \n",
        "                        batch_size=batch_size, \n",
        "                        verbose=1)\n",
        "\n",
        "# list of allowed optional arguments for the optimizer, see `compile_model()`\n",
        "optimizer = ['SGD', 'RMSprop', 'Adagrad', 'Adadelta', 'Adam', 'Adamax', 'Nadam']\n",
        "# define parameter dictionary\n",
        "param_grid = dict(optimizer=optimizer)\n",
        "# call scikit grid search module\n",
        "grid = GridSearchCV(estimator=model_gridsearch, param_grid=param_grid, n_jobs=1, cv=4)\n",
        "grid_result = grid.fit(X_train,Y_train)\n",
        "\n",
        "# summarize results\n",
        "print(\"Best: %f using %s\" % (grid_result.best_score_, grid_result.best_params_))\n",
        "means = grid_result.cv_results_['mean_test_score']\n",
        "stds = grid_result.cv_results_['std_test_score']\n",
        "params = grid_result.cv_results_['params']\n",
        "for mean, stdev, param in zip(means, stds, params):\n",
        "    print(\"%f (%f) with: %r\" % (mean, stdev, param))\n"
      ]
    },
    {
      "cell_type": "markdown",
      "metadata": {
        "id": "xEFfq4Uao939"
      },
      "source": [
        "## Creating Convolutional Neural Nets with Keras\n",
        "\n",
        "We have so far considered each MNIST data sample as a $(28\\times 28,)$-long 1d vector. This approach neglects any spatial structure in the image. On the other hand, we do know that in every one of the hand-written digits there are *local* spatial correlations between the pixels, which we would like to take advantage of to improve the accuracy of our classification model. To this end, we first need to reshape the training and test input data as follows"
      ]
    },
    {
      "cell_type": "code",
      "execution_count": 11,
      "metadata": {
        "id": "UbGx7ueLo93_",
        "outputId": "33adf347-3fec-4d0d-a1f2-cd8d1c595996",
        "colab": {
          "base_uri": "https://localhost:8080/"
        }
      },
      "outputs": [
        {
          "output_type": "stream",
          "name": "stdout",
          "text": [
            "X_train shape: (60000, 28, 28, 1)\n",
            "Y_train shape: (60000, 10)\n",
            "\n",
            "60000 train samples\n",
            "10000 test samples\n"
          ]
        }
      ],
      "source": [
        "# reshape data, depending on Keras backend\n",
        "if keras.backend.image_data_format() == 'channels_first':\n",
        "    X_train = X_train.reshape(X_train.shape[0], 1, img_rows, img_cols)\n",
        "    X_test = X_test.reshape(X_test.shape[0], 1, img_rows, img_cols)\n",
        "    input_shape = (1, img_rows, img_cols)\n",
        "else:\n",
        "    X_train = X_train.reshape(X_train.shape[0], img_rows, img_cols, 1)\n",
        "    X_test = X_test.reshape(X_test.shape[0], img_rows, img_cols, 1)\n",
        "    input_shape = (img_rows, img_cols, 1)\n",
        "    \n",
        "print('X_train shape:', X_train.shape)\n",
        "print('Y_train shape:', Y_train.shape)\n",
        "print()\n",
        "print(X_train.shape[0], 'train samples')\n",
        "print(X_test.shape[0], 'test samples')"
      ]
    },
    {
      "cell_type": "markdown",
      "metadata": {
        "id": "e04qr0fXo94A"
      },
      "source": [
        "One can ask the question of whether a neural net can learn to recognize such local patterns. As we saw in Sec. X of the review, this can be achieved by using convolutional layers. Luckily, all we need to do is change the architecture of our DNN, i.e. introduce small changes to the function `create_model()`. We can also merge **Step 2** and **Step 3** for convenience: "
      ]
    },
    {
      "cell_type": "code",
      "execution_count": 12,
      "metadata": {
        "id": "vl4owU0yo94B"
      },
      "outputs": [],
      "source": [
        "def create_CNN():\n",
        "    # instantiate model\n",
        "    model = Sequential()\n",
        "    # add first convolutional layer with 10 filters (dimensionality of output space)\n",
        "    model.add(Conv2D(10, kernel_size=(5, 5),\n",
        "                     activation='relu',\n",
        "                     input_shape=input_shape))\n",
        "    # add 2D pooling layer\n",
        "    model.add(MaxPooling2D(pool_size=(2, 2)))\n",
        "    # add second convolutional layer with 20 filters\n",
        "    model.add(Conv2D(20, (5, 5), activation='relu'))\n",
        "    # apply dropout with rate 0.5\n",
        "    model.add(Dropout(0.5))\n",
        "    # add 2D pooling layer\n",
        "    model.add(MaxPooling2D(pool_size=(2, 2)))\n",
        "    # flatten data\n",
        "    model.add(Flatten())\n",
        "    # add a dense all-to-all relu layer\n",
        "    model.add(Dense(20*4*4, activation='relu'))\n",
        "    # apply dropout with rate 0.5\n",
        "    model.add(Dropout(0.5))\n",
        "    # soft-max layer\n",
        "    model.add(Dense(num_classes, activation='softmax'))\n",
        "    \n",
        "    # compile the model\n",
        "    model.compile(loss=keras.losses.categorical_crossentropy,\n",
        "                  optimizer='Adam',\n",
        "                  metrics=['accuracy'])\n",
        "    \n",
        "    return model"
      ]
    },
    {
      "cell_type": "markdown",
      "metadata": {
        "id": "tewlBkflo94C"
      },
      "source": [
        "Training the deep conv net (**Step 4**) and evaluating its performance (**Step 6**) proceeds exactly as before:"
      ]
    },
    {
      "cell_type": "code",
      "execution_count": 13,
      "metadata": {
        "id": "54SVJNkSo94C",
        "outputId": "f590a2a5-a85e-4b6d-8192-ad2e72943c48",
        "colab": {
          "base_uri": "https://localhost:8080/"
        }
      },
      "outputs": [
        {
          "output_type": "stream",
          "name": "stdout",
          "text": [
            "Epoch 1/10\n",
            "938/938 [==============================] - 40s 41ms/step - loss: 0.2711 - accuracy: 0.9151 - val_loss: 0.0915 - val_accuracy: 0.9776\n",
            "Epoch 2/10\n",
            "938/938 [==============================] - 38s 41ms/step - loss: 0.0980 - accuracy: 0.9698 - val_loss: 0.0567 - val_accuracy: 0.9866\n",
            "Epoch 3/10\n",
            "938/938 [==============================] - 38s 41ms/step - loss: 0.0717 - accuracy: 0.9776 - val_loss: 0.0470 - val_accuracy: 0.9899\n",
            "Epoch 4/10\n",
            "938/938 [==============================] - 38s 40ms/step - loss: 0.0624 - accuracy: 0.9805 - val_loss: 0.0423 - val_accuracy: 0.9910\n",
            "Epoch 5/10\n",
            "938/938 [==============================] - 39s 41ms/step - loss: 0.0531 - accuracy: 0.9831 - val_loss: 0.0365 - val_accuracy: 0.9907\n",
            "Epoch 6/10\n",
            "938/938 [==============================] - 38s 41ms/step - loss: 0.0485 - accuracy: 0.9850 - val_loss: 0.0302 - val_accuracy: 0.9917\n",
            "Epoch 7/10\n",
            "938/938 [==============================] - 38s 41ms/step - loss: 0.0463 - accuracy: 0.9855 - val_loss: 0.0336 - val_accuracy: 0.9909\n",
            "Epoch 8/10\n",
            "938/938 [==============================] - 38s 40ms/step - loss: 0.0424 - accuracy: 0.9866 - val_loss: 0.0307 - val_accuracy: 0.9917\n",
            "Epoch 9/10\n",
            "938/938 [==============================] - 41s 44ms/step - loss: 0.0398 - accuracy: 0.9878 - val_loss: 0.0252 - val_accuracy: 0.9920\n",
            "Epoch 10/10\n",
            "938/938 [==============================] - 38s 41ms/step - loss: 0.0365 - accuracy: 0.9890 - val_loss: 0.0244 - val_accuracy: 0.9934\n",
            "313/313 [==============================] - 2s 7ms/step - loss: 0.0244 - accuracy: 0.9934\n",
            "\n",
            "Test loss: 0.024363839998841286\n",
            "Test accuracy: 0.993399977684021\n"
          ]
        }
      ],
      "source": [
        "# training parameters\n",
        "batch_size = 64\n",
        "epochs = 10\n",
        "\n",
        "# create the deep conv net\n",
        "model_CNN=create_CNN()\n",
        "\n",
        "# train CNN\n",
        "model_CNN.fit(X_train, Y_train,\n",
        "          batch_size=batch_size,\n",
        "          epochs=epochs,\n",
        "          verbose=1,\n",
        "          validation_data=(X_test, Y_test))\n",
        "\n",
        "# evaliate model\n",
        "score = model_CNN.evaluate(X_test, Y_test, verbose=1)\n",
        "\n",
        "# print performance\n",
        "print()\n",
        "print('Test loss:', score[0])\n",
        "print('Test accuracy:', score[1])"
      ]
    },
    {
      "cell_type": "code",
      "execution_count": null,
      "metadata": {
        "id": "TjetzP8So94D"
      },
      "outputs": [],
      "source": []
    }
  ],
  "metadata": {
    "kernelspec": {
      "display_name": "Python 3",
      "language": "python",
      "name": "python3"
    },
    "language_info": {
      "codemirror_mode": {
        "name": "ipython",
        "version": 3
      },
      "file_extension": ".py",
      "mimetype": "text/x-python",
      "name": "python",
      "nbconvert_exporter": "python",
      "pygments_lexer": "ipython3",
      "version": "3.7.1"
    },
    "colab": {
      "provenance": [],
      "include_colab_link": true
    }
  },
  "nbformat": 4,
  "nbformat_minor": 0
}